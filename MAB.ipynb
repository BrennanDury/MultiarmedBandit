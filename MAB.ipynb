{
 "cells": [
  {
   "cell_type": "code",
   "execution_count": 1,
   "id": "7be77b1d",
   "metadata": {},
   "outputs": [],
   "source": [
    "import numpy as np\n",
    "from queue import Queue"
   ]
  },
  {
   "cell_type": "code",
   "execution_count": 2,
   "id": "e4fa2551",
   "metadata": {},
   "outputs": [],
   "source": [
    "# Encapsulates a vector of each arm\n",
    "class Arms:\n",
    "    # Creates a vector of N arms\n",
    "    def __init__(self, N):\n",
    "      self.N = N\n",
    "      self.reward_weights = self._rand()\n",
    "      self.bid_weights = self._rand()\n",
    "\n",
    "      print(\"Average reward by arm:\")\n",
    "      print(self.reward_weights / 2, \"\\n\")\n",
    "    \n",
    "      print(\"Average bid by arm:\")\n",
    "      print(self.bid_weights / 2, \"\\n\")\n",
    "\n",
    "    # Returns an np array of the reward for each arm\n",
    "    def generate_rewards(self):\n",
    "        return self._rand() * self.reward_weights\n",
    "\n",
    "    # Returns an np array of the bid for each arm\n",
    "    def generate_bids(self):\n",
    "        return self._rand() * self.bid_weights\n",
    "    \n",
    "    def _rand(self):\n",
    "        return np.random.rand(self.N) * .99 + 0.01"
   ]
  },
  {
   "cell_type": "code",
   "execution_count": 3,
   "id": "0de6bf07",
   "metadata": {},
   "outputs": [],
   "source": [
    "# Takes the average rewards vector, total visits vector, number of arms chosen per round, and current round\n",
    "# and returns a vector of the upper confidence bounds\n",
    "def compute_ucb_rewards(expected_rewards, visits, cooldown, K, t):\n",
    "    ucf = ((K + 1) * np.log(t) / visits) ** 1/2\n",
    "    ucb = expected_rewards + ucf\n",
    "    available_ucb = ucb * cooldown\n",
    "    return available_ucb"
   ]
  },
  {
   "cell_type": "code",
   "execution_count": 4,
   "id": "f9cd3e23",
   "metadata": {},
   "outputs": [],
   "source": [
    "# Performs one round of selecting every arm to initialize the expected_rewards, paying the maximum cost \n",
    "def first_round(arms, N):\n",
    "    visits = np.full(N, 1)\n",
    "    costs = arms.generate_bids()\n",
    "    cost = sum(costs)\n",
    "    expected_rewards = arms.generate_rewards()\n",
    "    cooldown = np.full(N, 1)\n",
    "    return visits, expected_rewards, cost, cooldown"
   ]
  },
  {
   "cell_type": "code",
   "execution_count": 5,
   "id": "71bab7bb",
   "metadata": {},
   "outputs": [],
   "source": [
    "# Holds an auction, choosing the best K arms to explore depending on their bids during the action and\n",
    "# depending on expected_rewards, visits, and the current round. Returns the ucb rewards of each arm, a new_visits\n",
    "# one hot encoded vector for whether or not each arm is chosen, and the bids of each arm\n",
    "def auction_results(arms, expected_rewards, visits, cooldown, K, t):\n",
    "    bids = arms.generate_bids()\n",
    "    ucb_rewards = compute_ucb_rewards(expected_rewards, visits, cooldown, K, t)\n",
    "    score_to_index = sorted([(ucb_rewards[i], i) for i in range(len(ucb_rewards))], reverse=True)\n",
    "    new_visits = np.zeros(len(ucb_rewards))\n",
    "    for i in range(K):\n",
    "        new_visits[score_to_index[i][1]] = 1\n",
    "    return ucb_rewards, new_visits, bids, score_to_index[K][1]"
   ]
  },
  {
   "cell_type": "code",
   "execution_count": 6,
   "id": "cb4147fe",
   "metadata": {},
   "outputs": [],
   "source": [
    "# Calculates the cost of this round\n",
    "def compute_cost(arms, ucb_rewards, new_visits, bids, best_unchosen_idx):\n",
    "    best_unchosen_bid = bids[best_unchosen_idx]\n",
    "    best_unchosen_ucb = ucb_rewards[best_unchosen_idx]\n",
    "    \n",
    "    # Zero out unchosen arms\n",
    "    chosen_ucb = ucb_rewards * new_visits\n",
    "\n",
    "    payments = chosen_ucb * best_unchosen_bid / best_unchosen_ucb\n",
    "    payments = np.minimum(payments, np.array([1]))\n",
    "\n",
    "    cost = sum(payments)\n",
    "    return cost"
   ]
  },
  {
   "cell_type": "code",
   "execution_count": 7,
   "id": "54824517",
   "metadata": {},
   "outputs": [],
   "source": [
    "# Returns a vector of the rewards of the chosen arms and 0 for unchosen arms\n",
    "def get_rewards(arms, new_visits):\n",
    "    rewards = arms.generate_rewards()\n",
    "    \n",
    "    # Zero out unchosen arms\n",
    "    return rewards * new_visits"
   ]
  },
  {
   "cell_type": "code",
   "execution_count": 8,
   "id": "18623b50",
   "metadata": {},
   "outputs": [],
   "source": [
    "# Updates the average reward of each arm using the most recent rewards\n",
    "def update_expectations(expected_rewards, new_rewards, visits):\n",
    "    # If new_rewards[i] is zeroed out, replace the zero with the average, so it doesn't change the average\n",
    "    new_rewards = np.array([new_rewards[i] if new_rewards[i] != 0\n",
    "                                           else expected_rewards[i] for i in range(len(new_rewards))])\n",
    "\n",
    "    expected_rewards = ((expected_rewards * visits) + new_rewards) / (visits + 1)\n",
    "    return expected_rewards"
   ]
  },
  {
   "cell_type": "code",
   "execution_count": 9,
   "id": "9cab2e09",
   "metadata": {},
   "outputs": [],
   "source": [
    "# Performs one round. Returns vectors of the visits from that round, rewards for that round,\n",
    "# and the float cost of the round\n",
    "def round(arms, expected_rewards, visits, cooldown, K, t):\n",
    "    ucb_rewards, new_visits, bids, best_unchosen = auction_results(arms, expected_rewards, visits, cooldown, K, t)\n",
    "    new_rewards = get_rewards(arms, new_visits)\n",
    "    new_cost = compute_cost(arms, ucb_rewards, new_visits, bids, best_unchosen)\n",
    "    return new_visits, new_rewards, new_cost"
   ]
  },
  {
   "cell_type": "code",
   "execution_count": 10,
   "id": "30cb7c08",
   "metadata": {},
   "outputs": [],
   "source": [
    "# Updates the cooldowns for the next round, returning a vector containing for each arm a 1\n",
    "# if that arm is available, 0 if that arm is on cooldown\n",
    "def update_cooldown(cooldown_queue, cooldown, new_visits, N):\n",
    "    for i in range(N):\n",
    "        if new_visits[i] == 1:\n",
    "            if cooldown_queue.full():\n",
    "                ready = cooldown_queue.get()\n",
    "                cooldown[ready] = 1\n",
    "            cooldown_queue.put(i)\n",
    "            cooldown[i] = 0\n",
    "    return cooldown"
   ]
  },
  {
   "cell_type": "code",
   "execution_count": 11,
   "id": "cba9b4cf",
   "metadata": {},
   "outputs": [],
   "source": [
    "# Runs the simulation\n",
    "def AUCB(arms, N, K, B):\n",
    "    cooldown_queue = Queue(maxsize=COOLDOWNTIMER)\n",
    "    total_reward = 0\n",
    "    visits, expected_rewards, cost, cooldown = first_round(arms, N)\n",
    "    t = 1\n",
    "    while True:\n",
    "        new_visits, new_rewards, cost = round(arms, expected_rewards, visits, cooldown, K, t)\n",
    "        \n",
    "        if B < cost:\n",
    "            return total_reward, expected_rewards\n",
    "\n",
    "        cooldown = update_cooldown(cooldown_queue, cooldown, new_visits, N)\n",
    "        expected_rewards = update_expectations(expected_rewards, new_rewards, visits)\n",
    "        visits = visits + new_visits\n",
    "        total_reward = total_reward + new_rewards\n",
    "        B = B - cost\n",
    "        t = t + 1"
   ]
  },
  {
   "cell_type": "code",
   "execution_count": 12,
   "id": "37a233ab",
   "metadata": {},
   "outputs": [
    {
     "name": "stdout",
     "output_type": "stream",
     "text": [
      "Average reward by arm:\n",
      "[0.32651249 0.19893439 0.11583326 0.02635703 0.01169328 0.40128286\n",
      " 0.3201941  0.15283144 0.05229151 0.42692083 0.44357561 0.04712348\n",
      " 0.34696753 0.34829345 0.2329581  0.24846068 0.34167092 0.4065\n",
      " 0.29655711 0.04400164 0.39469137 0.38032819 0.48615409 0.03421361\n",
      " 0.4445384  0.24200362 0.23041956 0.42750157 0.25340096 0.00867684] \n",
      "\n",
      "Average bid by arm:\n",
      "[0.34715267 0.00864131 0.09430332 0.33554694 0.1463674  0.33694516\n",
      " 0.27489336 0.02001804 0.32038167 0.2384153  0.34792449 0.45809519\n",
      " 0.10585933 0.21202217 0.016764   0.48041595 0.40684215 0.25902905\n",
      " 0.4438605  0.46834887 0.09287509 0.22309207 0.3580702  0.28363907\n",
      " 0.07482802 0.20235008 0.07975426 0.21975258 0.30530666 0.0187977 ] \n",
      "\n",
      "Total reward:\n",
      "1864.6413641018364 \n",
      "\n",
      "Total reward gained from each arm:\n",
      "[2.40226811e+01 7.97916567e+00 2.82107153e+00 5.42001061e-01\n",
      " 2.52566205e-01 6.55998887e+01 2.61761619e+01 3.34510321e+00\n",
      " 9.61365065e-01 1.47241085e+02 2.60574118e+02 8.27153117e-01\n",
      " 4.84631104e+01 5.44445335e+01 1.18943519e+01 1.69979382e+01\n",
      " 2.83299595e+01 8.13275237e+01 1.77345270e+01 6.14586109e-01\n",
      " 1.01431867e+02 5.82803538e+01 3.41965621e+02 6.37473077e-01\n",
      " 2.73933042e+02 1.02147453e+01 8.19324256e+00 2.57149539e+02\n",
      " 1.24917427e+01 1.94847123e-01] \n",
      "\n",
      "Expected reward of each arm:\n",
      "[0.32115218 0.21347312 0.11303868 0.02677583 0.01271502 0.38902905\n",
      " 0.32968685 0.12402797 0.04584638 0.41508456 0.44442316 0.0379823\n",
      " 0.37398184 0.3797674  0.2586855  0.29390103 0.3371152  0.39657072\n",
      " 0.29571769 0.03182294 0.40785782 0.38367379 0.49163456 0.03147261\n",
      " 0.43421189 0.24170288 0.22056068 0.43214902 0.26239622 0.01009784]\n"
     ]
    }
   ],
   "source": [
    "COOLDOWNTIMER = 5\n",
    "N = 30  # Number of arms\n",
    "K = 1  # Number of arms to choose per round\n",
    "B = 1200  # Budget\n",
    "arms = Arms(N)\n",
    "reward_by_arm, expected_rewards = AUCB(arms, N, K, B)\n",
    "total_reward = sum(reward_by_arm)\n",
    "\n",
    "print(\"Total reward:\")\n",
    "print(total_reward, \"\\n\")\n",
    "\n",
    "print(\"Total reward gained from each arm:\")\n",
    "print(reward_by_arm, \"\\n\")\n",
    "\n",
    "print(\"Expected reward of each arm:\")\n",
    "print(expected_rewards)"
   ]
  },
  {
   "cell_type": "code",
   "execution_count": null,
   "id": "49c12568",
   "metadata": {},
   "outputs": [],
   "source": []
  }
 ],
 "metadata": {
  "kernelspec": {
   "display_name": "Python 3 (ipykernel)",
   "language": "python",
   "name": "python3"
  },
  "language_info": {
   "codemirror_mode": {
    "name": "ipython",
    "version": 3
   },
   "file_extension": ".py",
   "mimetype": "text/x-python",
   "name": "python",
   "nbconvert_exporter": "python",
   "pygments_lexer": "ipython3",
   "version": "3.9.7"
  }
 },
 "nbformat": 4,
 "nbformat_minor": 5
}
