{
 "cells": [
  {
   "cell_type": "code",
   "execution_count": 1,
   "id": "3b264074",
   "metadata": {},
   "outputs": [],
   "source": [
    "import numpy as np"
   ]
  },
  {
   "cell_type": "code",
   "execution_count": 2,
   "id": "cd5c995c",
   "metadata": {},
   "outputs": [],
   "source": [
    "# Encapsulates a vector of each arm\n",
    "class Arms:\n",
    "    # Creates a vector of N arms\n",
    "    def __init__(self, N):\n",
    "      self.N = N\n",
    "      self.reward_weights = np.random.rand(self.N)\n",
    "      self.bid_weights = np.random.rand(self.N)\n",
    "      self.cost_weights = self.bid_weights * np.random.rand(self.N)\n",
    "\n",
    "      print(\"Average reward by arm:\")\n",
    "      print(self.reward_weights / 2, \"\\n\")\n",
    "\n",
    "      print(\"Average bid by arm:\")\n",
    "      print(self.bid_weights / 2, \"\\n\")\n",
    "\n",
    "      print(\"Average cost by arm:\")\n",
    "      print(self.cost_weights / 2, \"\\n\")\n",
    "\n",
    "    # Returns an np array of the reward for each arm\n",
    "    def generate_rewards(self):\n",
    "        return np.random.rand(self.N) * self.reward_weights\n",
    "\n",
    "    # Returns an np array of the bid for each arm\n",
    "    def generate_bids(self):\n",
    "        return np.random.rand(self.N) * self.bid_weights\n",
    "\n",
    "    # Returns an np array of the cost for each arm\n",
    "    def generate_costs(self):\n",
    "        return np.random.rand(self.N) * self.cost_weights"
   ]
  },
  {
   "cell_type": "code",
   "execution_count": 3,
   "id": "ba07f5d8",
   "metadata": {},
   "outputs": [],
   "source": [
    "# Takes the average rewards vector, total visits vector, number of arms chosen per round, and current round\n",
    "# and returns a vector of the upper confidence bounds\n",
    "def compute_ucb_rewards(expected_rewards, visits, K, t):\n",
    "    ucf = ((K + 1) * np.log(t) / visits) ** 1/2\n",
    "    ucb = expected_rewards + ucf\n",
    "    return ucb"
   ]
  },
  {
   "cell_type": "code",
   "execution_count": 4,
   "id": "b3cef6a2",
   "metadata": {},
   "outputs": [],
   "source": [
    "# Performs one round of selecting every arm to initialize the expected_rewards, paying the maximum cost \n",
    "def first_round(arms, N):\n",
    "    visits = np.full(N, 1)\n",
    "    costs = arms.generate_costs()\n",
    "    cost = sum(costs)\n",
    "    expected_rewards = arms.generate_rewards()\n",
    "    return visits, expected_rewards, cost"
   ]
  },
  {
   "cell_type": "code",
   "execution_count": 5,
   "id": "8f711e3c",
   "metadata": {},
   "outputs": [],
   "source": [
    "# Holds an auction, choosing the best K arms to explore depending on their bids during the action and\n",
    "# depending on expected_rewards, visits, and the current round. Returns the ucb rewards of each arm, a new_visits\n",
    "# one hot encoded vector for whether or not each arm is chosen, and the bids of each arm\n",
    "def auction_results(arms, expected_rewards, visits, K, t):\n",
    "    bids = arms.generate_bids()\n",
    "    ucb_rewards = compute_ucb_rewards(expected_rewards, visits, K, t)\n",
    "    score_to_index = sorted([(ucb_rewards[i], i) for i in range(len(ucb_rewards))], reverse=True)\n",
    "    new_visits = np.zeros(len(ucb_rewards))\n",
    "    for i in range(K):\n",
    "        new_visits[score_to_index[i][1]] = 1\n",
    "    return ucb_rewards, new_visits, bids"
   ]
  },
  {
   "cell_type": "code",
   "execution_count": 6,
   "id": "15396b62",
   "metadata": {},
   "outputs": [],
   "source": [
    "# Calculates the cost of this round\n",
    "def compute_cost(arms, ucb_rewards, new_visits, bids):\n",
    "    costs = arms.generate_costs()\n",
    "\n",
    "    # Zero out unchosen arms\n",
    "    chosen_costs = costs * new_visits\n",
    "    chosen_ucb = ucb_rewards * new_visits\n",
    "    chosen_bids = bids * new_visits\n",
    "\n",
    "    # TODO: cost = sum of function of costs, chosen_ucb, chosen_bids\n",
    "    cost = sum(chosen_costs) # for now\n",
    "    return cost"
   ]
  },
  {
   "cell_type": "code",
   "execution_count": 7,
   "id": "a41a1f46",
   "metadata": {},
   "outputs": [],
   "source": [
    "# Returns a vector of the rewards of the chosen arms and 0 for unchosen arms\n",
    "def get_rewards(arms, new_visits):\n",
    "    rewards = arms.generate_rewards()\n",
    "    \n",
    "    # Zero out unchosen arms\n",
    "    return rewards * new_visits"
   ]
  },
  {
   "cell_type": "code",
   "execution_count": 8,
   "id": "a2d75839",
   "metadata": {},
   "outputs": [],
   "source": [
    "# Updates the average reward of each arm using the most recent rewards\n",
    "def update_expectations(expected_rewards, new_rewards, visits):\n",
    "    # If new_rewards[i] is zeroed out, replace the zero with the average, so it doesn't change the average\n",
    "    new_rewards = np.array([new_rewards[i] if new_rewards[i] != 0\n",
    "                                           else expected_rewards[i] for i in range(len(new_rewards))])\n",
    "    \n",
    "    expected_rewards = ((expected_rewards * visits) + new_rewards) / (visits + 1)\n",
    "    return expected_rewards"
   ]
  },
  {
   "cell_type": "code",
   "execution_count": 9,
   "id": "75858eb4",
   "metadata": {},
   "outputs": [],
   "source": [
    "# Performs one round. Returns vectors of the visits from that round, rewards for that round,\n",
    "# and the float cost of the round\n",
    "def round(arms, expected_rewards, visits, K, t):\n",
    "    ucb_rewards, new_visits, bids = auction_results(arms, expected_rewards, visits, K, t)\n",
    "    new_rewards = get_rewards(arms, new_visits)\n",
    "    new_cost = compute_cost(arms, ucb_rewards, new_visits, bids)\n",
    "    return new_visits, new_rewards, new_cost"
   ]
  },
  {
   "cell_type": "code",
   "execution_count": 10,
   "id": "7709fff2",
   "metadata": {},
   "outputs": [],
   "source": [
    "# Runs the simulation\n",
    "def AUCB(arms, N, K, B):\n",
    "    total_reward = 0\n",
    "    visits, expected_rewards, cost = first_round(arms, N)\n",
    "    t = 1\n",
    "    while True:\n",
    "        new_visits, new_rewards, cost = round(arms, expected_rewards, visits, K, t)\n",
    "\n",
    "        if B < cost:\n",
    "            return total_reward, expected_rewards\n",
    "\n",
    "        expected_rewards = update_expectations(expected_rewards, new_rewards, visits)\n",
    "        visits = visits + new_visits\n",
    "        total_reward = total_reward + new_rewards\n",
    "        B = B - cost\n",
    "        t = t + 1"
   ]
  },
  {
   "cell_type": "code",
   "execution_count": 11,
   "id": "8177b9bb",
   "metadata": {},
   "outputs": [
    {
     "name": "stdout",
     "output_type": "stream",
     "text": [
      "Average reward by arm:\n",
      "[0.22339794 0.41333605 0.07814467 0.48771492 0.33717814 0.01176743\n",
      " 0.00871015 0.18806528 0.02049152 0.32974141 0.28806893 0.32826848\n",
      " 0.49754035 0.19386927 0.45464732] \n",
      "\n",
      "Average bid by arm:\n",
      "[0.21663582 0.11407697 0.37550115 0.24880939 0.14929152 0.47228617\n",
      " 0.31664349 0.47192671 0.39071824 0.33122177 0.07302861 0.42642641\n",
      " 0.49533792 0.2507302  0.06799388] \n",
      "\n",
      "Average cost by arm:\n",
      "[0.05740457 0.07509048 0.27440927 0.20800077 0.03220073 0.44357384\n",
      " 0.2252081  0.0911773  0.28105664 0.14736739 0.0092561  0.3924213\n",
      " 0.39499456 0.12716581 0.0384161 ] \n",
      "\n",
      "Total reward:\n",
      "287123.79747900134 \n",
      "\n",
      "Total reward gained from each arm:\n",
      "[7.16802075e+01 5.41733809e+04 1.09014930e+01 6.41069401e+04\n",
      " 4.07011190e+04 1.29987779e+00 9.10693637e-01 4.00435632e+01\n",
      " 2.15264506e+00 1.85727323e+03 1.58354645e+02 1.05675728e+03\n",
      " 6.52634488e+04 4.51238775e+01 5.96344111e+04] \n",
      "\n",
      "Expected reward of each arm:\n",
      "[0.22557544 0.41372037 0.07999895 0.4892798  0.3368688  0.01213171\n",
      " 0.00853093 0.17881201 0.01941399 0.33072812 0.27560986 0.32607449\n",
      " 0.49791    0.18962004 0.45517951]\n"
     ]
    }
   ],
   "source": [
    "N = 15  # Number of arms\n",
    "K = 5  # Number of arms to choose per round\n",
    "B = 100000  # Budget\n",
    "arms = Arms(N)\n",
    "reward_by_arm, expected_rewards = AUCB(arms, N, K, B)\n",
    "total_reward = sum(reward_by_arm)\n",
    "\n",
    "print(\"Total reward:\")\n",
    "print(total_reward, \"\\n\")\n",
    "\n",
    "print(\"Total reward gained from each arm:\")\n",
    "print(reward_by_arm, \"\\n\")\n",
    "\n",
    "print(\"Expected reward of each arm:\")\n",
    "print(expected_rewards)"
   ]
  },
  {
   "cell_type": "code",
   "execution_count": null,
   "id": "b6d67d99",
   "metadata": {},
   "outputs": [],
   "source": []
  }
 ],
 "metadata": {
  "kernelspec": {
   "display_name": "Python 3 (ipykernel)",
   "language": "python",
   "name": "python3"
  },
  "language_info": {
   "codemirror_mode": {
    "name": "ipython",
    "version": 3
   },
   "file_extension": ".py",
   "mimetype": "text/x-python",
   "name": "python",
   "nbconvert_exporter": "python",
   "pygments_lexer": "ipython3",
   "version": "3.9.7"
  }
 },
 "nbformat": 4,
 "nbformat_minor": 5
}
